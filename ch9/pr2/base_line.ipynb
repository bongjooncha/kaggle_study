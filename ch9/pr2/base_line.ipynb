{
 "cells": [
  {
   "cell_type": "code",
   "execution_count": 61,
   "metadata": {},
   "outputs": [],
   "source": [
    "import pandas as pd\n",
    "import numpy as np\n",
    "\n",
    "data_path = '../data/'\n",
    "\n",
    "sales_train = pd.read_csv(data_path+'sales_train.csv')\n",
    "shops = pd.read_csv(data_path+'shops.csv')\n",
    "items = pd.read_csv(data_path+'items.csv')\n",
    "item_categories = pd.read_csv(data_path+'item_categories.csv')\n",
    "test = pd.read_csv(data_path+'test.csv')\n",
    "submission = pd.read_csv(data_path+'sample_submission.csv')\n"
   ]
  },
  {
   "cell_type": "code",
   "execution_count": 62,
   "metadata": {},
   "outputs": [],
   "source": [
    "sales_train = sales_train.rename(columns = {'date': '날짜',\n",
    "                                            'date_block_num': '월ID',\n",
    "                                            'shop_id': '상점ID',\n",
    "                                            'item_id': '상품ID',\n",
    "                                            'item_price': '판매가',\n",
    "                                            'item_cnt_day': '판매량'})\n",
    "shops = shops.rename(columns = {'shop_name':'상점명',\n",
    "                                'shop_id': '상점 ID'},)\n",
    "items = items.rename(columns={\n",
    "    'item_name':'상품명',\n",
    "    'item_id': '상점ID',\n",
    "    'item_category_id':'상품분류ID'\n",
    "})\n",
    "item_categories = item_categories.rename(columns = {'item_category_name':'상품 분류명', 'item_category_id': '상품 분류 ID'})\n",
    "test = test.rename(columns ={'shop_id':'상점 ID','item_id':'상품 ID'})"
   ]
  },
  {
   "cell_type": "code",
   "execution_count": 63,
   "metadata": {},
   "outputs": [],
   "source": [
    "def downcast(df, verbose = True):\n",
    "    start_mem = df.memory_usage().sum()/1024**2\n",
    "    for col in df.columns:\n",
    "        dtype_name = df[col].dtype.name\n",
    "        if dtype_name == 'object':\n",
    "            pass\n",
    "        elif dtype_name == 'bool':\n",
    "            df[col] = df[col].astype('int8')\n",
    "        elif dtype_name.startswith('int') or (df[col].round() == df[col]).all():\n",
    "            df[col] = pd.to_numeric(df[col], downcast = 'integer')\n",
    "        else:\n",
    "            df[col] = pd.to_numeric(df[col], downcast= 'float')\n",
    "    end_mem = df.memory_usage().sum()/1024**2\n",
    "    if verbose:\n",
    "        print('{:.1f}% 압축됨'.format(100*(start_mem-end_mem)/start_mem))\n",
    "    return df"
   ]
  },
  {
   "cell_type": "code",
   "execution_count": null,
   "metadata": {},
   "outputs": [],
   "source": [
    "all_df = [sales_train, shops, items, item_categories, test]\n",
    "for df in all_df:\n",
    "    df=downcast(df)"
   ]
  },
  {
   "cell_type": "code",
   "execution_count": null,
   "metadata": {},
   "outputs": [],
   "source": [
    "from itertools import product\n",
    "\n",
    "train = []\n",
    "\n",
    "for i in sales_train['월ID'].unique():\n",
    "    all_shop = sales_train.loc[sales_train['월ID']==i, '상점ID'].unique()\n",
    "    all_item = sales_train.loc[sales_train['월ID']==i, '상품ID'].unique()\n",
    "    train.append(np.array(list(product([i], all_shop, all_item))))\n",
    "\n",
    "idx_features = ['월ID', '상점ID', '상품ID']\n",
    "\n",
    "train = pd.DataFrame(np.vstack(train),columns = idx_features)\n",
    "\n",
    "train\n"
   ]
  },
  {
   "cell_type": "code",
   "execution_count": null,
   "metadata": {},
   "outputs": [],
   "source": []
  }
 ],
 "metadata": {
  "kernelspec": {
   "display_name": "Python 3",
   "language": "python",
   "name": "python3"
  },
  "language_info": {
   "codemirror_mode": {
    "name": "ipython",
    "version": 3
   },
   "file_extension": ".py",
   "mimetype": "text/x-python",
   "name": "python",
   "nbconvert_exporter": "python",
   "pygments_lexer": "ipython3",
   "version": "3.11.4"
  }
 },
 "nbformat": 4,
 "nbformat_minor": 2
}
