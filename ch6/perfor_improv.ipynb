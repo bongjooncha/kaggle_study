{
 "cells": [
  {
   "cell_type": "markdown",
   "metadata": {},
   "source": [
    "<h1>성능 개선</h1>\n"
   ]
  },
  {
   "cell_type": "code",
   "execution_count": 9,
   "metadata": {},
   "outputs": [],
   "source": [
    "#초기 설정\n",
    "#데이터 불러오기\n",
    "import pandas as pd\n",
    "\n",
    "data_path = './data/'\n",
    "train = pd.read_csv(data_path + 'train.csv')\n",
    "test = pd.read_csv(data_path + 'test.csv')\n",
    "submission = pd.read_csv(data_path + 'sampleSubmission.csv')\n",
    "\n",
    "# weather이 4인경우는 이상치였기에 제거\n",
    "train = train[train['weather']!=4]\n",
    "\n",
    "# train데이터와 test데이터 합치기\n",
    "all_data = pd.concat([train, test], ignore_index=True) #ignore_index를 통해서 원래 index를 무시하고 새롭게 index를 생성(train과 test를 합쳤기에)\n",
    "\n",
    "# 날짜 처리\n",
    "all_data['datetime'] = pd.to_datetime(all_data['datetime'])\n",
    "all_data['date'] = all_data['datetime'].dt.date\n",
    "all_data['year'] = all_data['datetime'].dt.year\n",
    "all_data['month'] = all_data['datetime'].dt.month\n",
    "all_data['hour'] = all_data['datetime'].dt.hour\n",
    "all_data['weekday'] = all_data['datetime'].dt.weekday\n",
    "\n",
    "# 불필요한 열 제거\n",
    "drop_features = ['datetime', 'casual', 'registered', 'date', 'month', 'windspeed']\n",
    "all_data = all_data.drop(columns=drop_features)\n",
    "\n",
    "# 데이터 나누기\n",
    "X_train = all_data[~pd.isnull(all_data['count'])]\n",
    "X_test = all_data[pd.isnull(all_data['count'])]\n",
    "\n",
    "# 데이터 정리\n",
    "X_train = X_train.drop(['count'],axis=1)\n",
    "X_test = X_test.drop(['count'],axis=1)\n",
    "y = train['count']\n",
    "\n",
    "#평가지표\n",
    "import numpy as np\n",
    "def rmsle(y_true, y_pred, convertExp=True):\n",
    "    if convertExp:\n",
    "        y_true = np.exp(y_true)\n",
    "        y_pred = np.exp(y_pred)\n",
    "    log_true = np.nan_to_num(np.log(y_true+1))\n",
    "    log_pred = np.nan_to_num(np.log(y_pred+1))\n",
    "    \n",
    "    return np.sqrt(np.mean((log_true - log_pred)**2))"
   ]
  },
  {
   "cell_type": "markdown",
   "metadata": {},
   "source": [
    "<h4>1. 릿지 회귀 모델</h4>"
   ]
  },
  {
   "cell_type": "code",
   "execution_count": 10,
   "metadata": {},
   "outputs": [],
   "source": [
    "from sklearn.linear_model import Ridge\n",
    "from sklearn.model_selection import GridSearchCV\n",
    "from sklearn import metrics\n",
    "\n",
    "ridge_model = Ridge()\n"
   ]
  },
  {
   "cell_type": "code",
   "execution_count": 11,
   "metadata": {},
   "outputs": [],
   "source": [
    "ridge_params = {'max_iter':[3000],'alpha':[0.1,1,2,3,4,10,30,100,200,300,400,800,900,1000]}\n",
    "\n",
    "rmsle_scorer = metrics.make_scorer(rmsle, greater_is_better=False)\n"
   ]
  },
  {
   "cell_type": "code",
   "execution_count": 12,
   "metadata": {},
   "outputs": [],
   "source": [
    "# estimator: 릿지모델, param_grid: 값 목록, scoring: 평가지표, cv: 교차검증 횟수\n",
    "gridsearch_ridge_model = GridSearchCV(estimator=ridge_model, param_grid=ridge_params, scoring=rmsle_scorer, cv=5)"
   ]
  },
  {
   "cell_type": "code",
   "execution_count": 14,
   "metadata": {},
   "outputs": [
    {
     "name": "stdout",
     "output_type": "stream",
     "text": [
      "최적 하이퍼파라미터 : {'alpha': 0.1, 'max_iter': 3000}\n"
     ]
    }
   ],
   "source": [
    "log_y = np.log(y)\n",
    "gridsearch_ridge_model.fit(X_train, log_y)\n",
    "print(f'최적 하이퍼파라미터 : {gridsearch_ridge_model.best_params_}')\n"
   ]
  },
  {
   "cell_type": "code",
   "execution_count": 16,
   "metadata": {},
   "outputs": [
    {
     "name": "stdout",
     "output_type": "stream",
     "text": [
      "릿지 회귀 모델의 RMSLE 값: 1.0205\n"
     ]
    }
   ],
   "source": [
    "pred = gridsearch_ridge_model.best_estimator_.predict(X_train)\n",
    "\n",
    "print(f'릿지 회귀 모델의 RMSLE 값: {rmsle(log_y, pred, True):.4f}')\n"
   ]
  },
  {
   "cell_type": "markdown",
   "metadata": {},
   "source": [
    "<h4>2. 라쏘 회귀 모델</h4>"
   ]
  },
  {
   "cell_type": "code",
   "execution_count": 17,
   "metadata": {},
   "outputs": [
    {
     "name": "stdout",
     "output_type": "stream",
     "text": [
      "최적 하이퍼파라미터 : {'alpha': 0.00125, 'max_iter': 3000}\n"
     ]
    }
   ],
   "source": [
    "from sklearn.linear_model import Lasso\n",
    "\n",
    "lasso_model = Lasso()\n",
    "\n",
    "lasso_alpha = 1/np.array([0.1,1,2,3,4,10,30,100,200,300,400,800,900,1000])\n",
    "lasso_params = {'max_iter':[3000],'alpha':lasso_alpha}\n",
    "\n",
    "gridsearch_lasso_model = GridSearchCV(estimator=lasso_model, param_grid=lasso_params, scoring=rmsle_scorer, cv=5)\n",
    "\n",
    "log_y = np.log(y)\n",
    "gridsearch_lasso_model.fit(X_train, log_y)\n",
    "\n",
    "print(f'최적 하이퍼파라미터 : {gridsearch_lasso_model.best_params_}')\n",
    "\n"
   ]
  },
  {
   "cell_type": "code",
   "execution_count": 18,
   "metadata": {},
   "outputs": [
    {
     "name": "stdout",
     "output_type": "stream",
     "text": [
      "라쏘 회귀 모델의 RMSLE 값: 1.0205\n"
     ]
    }
   ],
   "source": [
    "pred = gridsearch_lasso_model.best_estimator_.predict(X_train)\n",
    "\n",
    "print(f'라쏘 회귀 모델의 RMSLE 값: {rmsle(log_y, pred, True):.4f}')\n"
   ]
  },
  {
   "cell_type": "markdown",
   "metadata": {},
   "source": [
    "<h4>3. 랜덤 포레스트 회귀 모델</h4>"
   ]
  },
  {
   "cell_type": "code",
   "execution_count": 19,
   "metadata": {},
   "outputs": [
    {
     "name": "stdout",
     "output_type": "stream",
     "text": [
      "최적 하이퍼파라미터 : {'n_estimators': 140, 'random_state': 42}\n",
      "랜덤 포레스트 회귀 모델의 RMSLE 값: 0.1127\n"
     ]
    }
   ],
   "source": [
    "from sklearn.ensemble import RandomForestRegressor\n",
    "\n",
    "rf_model = RandomForestRegressor()\n",
    "\n",
    "rf_params = {'random_state':[42], 'n_estimators':[100,120,140]}\n",
    "gridsearch_random_forest_model = GridSearchCV(estimator=rf_model, param_grid=rf_params, scoring=rmsle_scorer, cv=5)\n",
    "\n",
    "log_y = np.log(y)\n",
    "gridsearch_random_forest_model.fit(X_train, log_y)\n",
    "\n",
    "print(f'최적 하이퍼파라미터 : {gridsearch_random_forest_model.best_params_}')\n",
    "\n",
    "pred = gridsearch_random_forest_model.best_estimator_.predict(X_train)\n",
    "\n",
    "print(f'랜덤 포레스트 회귀 모델의 RMSLE 값: {rmsle(log_y, pred, True):.4f}')\n"
   ]
  }
 ],
 "metadata": {
  "kernelspec": {
   "display_name": "Python 3",
   "language": "python",
   "name": "python3"
  },
  "language_info": {
   "codemirror_mode": {
    "name": "ipython",
    "version": 3
   },
   "file_extension": ".py",
   "mimetype": "text/x-python",
   "name": "python",
   "nbconvert_exporter": "python",
   "pygments_lexer": "ipython3",
   "version": "3.10.7"
  }
 },
 "nbformat": 4,
 "nbformat_minor": 2
}
